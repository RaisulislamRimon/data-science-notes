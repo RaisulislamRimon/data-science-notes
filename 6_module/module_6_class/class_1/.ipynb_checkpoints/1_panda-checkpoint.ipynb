{
 "cells": [
  {
   "cell_type": "code",
   "execution_count": 9,
   "id": "2a3bb941-8a8b-4406-a863-15b47bdefa87",
   "metadata": {},
   "outputs": [
    {
     "name": "stdout",
     "output_type": "stream",
     "text": [
      "hi panda\n"
     ]
    }
   ],
   "source": [
    "print('hi panda')"
   ]
  },
  {
   "cell_type": "code",
   "execution_count": null,
   "id": "27414da3-89fc-478c-81da-7aab2cbe0d48",
   "metadata": {},
   "outputs": [],
   "source": []
  }
 ],
 "metadata": {
  "kernelspec": {
   "display_name": "Python 3 (ipykernel)",
   "language": "python",
   "name": "python3"
  },
  "language_info": {
   "codemirror_mode": {
    "name": "ipython",
    "version": 3
   },
   "file_extension": ".py",
   "mimetype": "text/x-python",
   "name": "python",
   "nbconvert_exporter": "python",
   "pygments_lexer": "ipython3",
   "version": "3.12.7"
  }
 },
 "nbformat": 4,
 "nbformat_minor": 5
}
