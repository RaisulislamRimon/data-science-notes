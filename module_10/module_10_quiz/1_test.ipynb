{
 "cells": [
  {
   "cell_type": "code",
   "execution_count": 1,
   "metadata": {},
   "outputs": [],
   "source": [
    "# !pip install scikit-learn"
   ]
  },
  {
   "cell_type": "code",
   "execution_count": 2,
   "metadata": {},
   "outputs": [],
   "source": [
    "import numpy as np \n",
    "import pandas as pd \n",
    "import matplotlib.pyplot as plt \n",
    "import matplotlib as plt1\n",
    "import seaborn as sns \n",
    "# import scikit learn \n",
    "# import scikit-learn as sklearn \n",
    "import sklearn\n",
    "# !pip install scikit-learn\n",
    "from sklearn.model_selection import train_test_split \n",
    "from sklearn.linear_model import LogisticRegression \n",
    "from sklearn.metrics import accuracy_score \n",
    "# ignore warnings \n",
    "import warnings \n",
    "warnings.filterwarnings('ignore')"
   ]
  },
  {
   "cell_type": "code",
   "execution_count": 3,
   "metadata": {},
   "outputs": [
    {
     "name": "stdout",
     "output_type": "stream",
     "text": [
      "np.__version__:  2.1.3\n",
      "pd.__version__:  2.2.3\n",
      "plt1.__version__:  3.9.3\n",
      "sns.__version__:  0.13.2\n",
      "sklearn.__version__:  1.6.0\n"
     ]
    }
   ],
   "source": [
    "print(\"np.__version__: \", np.__version__)\n",
    "print(\"pd.__version__: \", pd.__version__)\n",
    "print(\"plt1.__version__: \", plt1.__version__)\n",
    "print(\"sns.__version__: \", sns.__version__)\n",
    "print(\"sklearn.__version__: \", sklearn.__version__)"
   ]
  },
  {
   "cell_type": "code",
   "execution_count": 4,
   "metadata": {},
   "outputs": [
    {
     "name": "stdout",
     "output_type": "stream",
     "text": [
      "2.2.3\n",
      "2.2.3\n",
      "2.1.3\n"
     ]
    }
   ],
   "source": [
    "# from numpy import np\n",
    "# print(np.__version__)\n",
    "import pandas as ps\n",
    "print(ps.__version__)\n",
    "import pandas as pd\n",
    "print(pd.__version__)\n",
    "import numpy as np\n",
    "print(np.__version__)"
   ]
  }
 ],
 "metadata": {
  "kernelspec": {
   "display_name": ".venv",
   "language": "python",
   "name": "python3"
  },
  "language_info": {
   "codemirror_mode": {
    "name": "ipython",
    "version": 3
   },
   "file_extension": ".py",
   "mimetype": "text/x-python",
   "name": "python",
   "nbconvert_exporter": "python",
   "pygments_lexer": "ipython3",
   "version": "3.11.10"
  }
 },
 "nbformat": 4,
 "nbformat_minor": 2
}
