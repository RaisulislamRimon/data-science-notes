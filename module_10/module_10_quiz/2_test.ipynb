{
 "cells": [
  {
   "cell_type": "code",
   "execution_count": 1,
   "metadata": {},
   "outputs": [],
   "source": [
    "import numpy as np \n",
    "import pandas as pd \n",
    "import matplotlib.pyplot as plt \n",
    "import matplotlib as plt1\n",
    "import seaborn as sns \n",
    "# import scikit learn \n",
    "# import scikit-learn as sklearn \n",
    "import sklearn\n",
    "# !pip install scikit-learn\n",
    "from sklearn.model_selection import train_test_split \n",
    "from sklearn.linear_model import LogisticRegression \n",
    "from sklearn.metrics import accuracy_score \n",
    "# ignore warnings \n",
    "import warnings \n",
    "warnings.filterwarnings('ignore')"
   ]
  },
  {
   "cell_type": "code",
   "execution_count": 2,
   "metadata": {},
   "outputs": [
    {
     "name": "stdout",
     "output_type": "stream",
     "text": [
      "np.__version__:  2.1.3\n",
      "pd.__version__:  2.2.3\n",
      "plt1.__version__:  3.9.3\n",
      "sns.__version__:  0.13.2\n",
      "sklearn.__version__:  1.6.0\n"
     ]
    }
   ],
   "source": [
    "print(\"np.__version__: \", np.__version__)\n",
    "print(\"pd.__version__: \", pd.__version__)\n",
    "print(\"plt1.__version__: \", plt1.__version__)\n",
    "print(\"sns.__version__: \", sns.__version__)\n",
    "print(\"sklearn.__version__: \", sklearn.__version__)"
   ]
  },
  {
   "cell_type": "code",
   "execution_count": 3,
   "metadata": {},
   "outputs": [
    {
     "name": "stdout",
     "output_type": "stream",
     "text": [
      "Accuracy: 67 %\n",
      "Precision: 57 %\n",
      "Recall: 67 %\n",
      "F1-Score: 62 %\n"
     ]
    }
   ],
   "source": [
    "# Given values\n",
    "accurate_answers = 10\n",
    "total_questions = 30\n",
    "true_positives = 8\n",
    "false_positives = 6\n",
    "false_negatives = 4\n",
    "\n",
    "# Calculate true negatives\n",
    "true_negatives = total_questions - (true_positives + false_positives + false_negatives)\n",
    "\n",
    "# Calculate accuracy\n",
    "accuracy = (true_positives + true_negatives) / total_questions\n",
    "\n",
    "# Calculate precision\n",
    "precision = true_positives / (true_positives + false_positives)\n",
    "\n",
    "# Calculate recall\n",
    "recall = true_positives / (true_positives + false_negatives)\n",
    "\n",
    "# Calculate F1-score\n",
    "f1_score = 2 * (precision * recall) / (precision + recall)\n",
    "\n",
    "# Print the results\n",
    "print(\"Accuracy:\", round(accuracy * 100), \"%\")\n",
    "print(\"Precision:\", round(precision * 100), \"%\")\n",
    "print(\"Recall:\", round(recall * 100), \"%\")\n",
    "print(\"F1-Score:\", round(f1_score * 100), \"%\")"
   ]
  }
 ],
 "metadata": {
  "kernelspec": {
   "display_name": ".venv",
   "language": "python",
   "name": "python3"
  },
  "language_info": {
   "codemirror_mode": {
    "name": "ipython",
    "version": 3
   },
   "file_extension": ".py",
   "mimetype": "text/x-python",
   "name": "python",
   "nbconvert_exporter": "python",
   "pygments_lexer": "ipython3",
   "version": "3.11.10"
  }
 },
 "nbformat": 4,
 "nbformat_minor": 2
}
