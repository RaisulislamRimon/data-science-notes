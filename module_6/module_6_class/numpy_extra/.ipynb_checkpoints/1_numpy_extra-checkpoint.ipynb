{
 "cells": [
  {
   "cell_type": "code",
   "execution_count": null,
   "id": "00dff7d4-06fb-4622-86d9-05feb305c61e",
   "metadata": {},
   "outputs": [],
   "source": [
    "import numpy as np"
   ]
  },
  {
   "cell_type": "code",
   "execution_count": null,
   "id": "6844ad07-0047-4137-b27a-8804690eca78",
   "metadata": {},
   "outputs": [],
   "source": [
    "np.__version__"
   ]
  },
  {
   "cell_type": "code",
   "execution_count": null,
   "id": "d9cae022-dd7c-4969-a4c9-9b786d357f69",
   "metadata": {},
   "outputs": [],
   "source": [
    "pd.__version__"
   ]
  },
  {
   "cell_type": "raw",
   "id": "6ce7d216-cc7e-46f6-a22d-c57153756622",
   "metadata": {},
   "source": [
    "print(\"Welcome to numpy library\")"
   ]
  },
  {
   "cell_type": "code",
   "execution_count": null,
   "id": "bc46ace5-383a-4b72-b679-5bb0c520a032",
   "metadata": {},
   "outputs": [],
   "source": []
  }
 ],
 "metadata": {
  "kernelspec": {
   "display_name": "Python 3 (ipykernel)",
   "language": "python",
   "name": "python3"
  },
  "language_info": {
   "codemirror_mode": {
    "name": "ipython",
    "version": 3
   },
   "file_extension": ".py",
   "mimetype": "text/x-python",
   "name": "python",
   "nbconvert_exporter": "python",
   "pygments_lexer": "ipython3",
   "version": "3.12.7"
  }
 },
 "nbformat": 4,
 "nbformat_minor": 5
}
