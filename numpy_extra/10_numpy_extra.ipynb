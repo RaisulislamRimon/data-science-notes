{
 "cells": [
  {
   "cell_type": "code",
   "execution_count": 1,
   "id": "95538c46-aac8-4ac6-bf47-a68029dcbdfe",
   "metadata": {},
   "outputs": [
    {
     "data": {
      "text/html": [
       "<h3>Numpy Operations</h3>\n",
       "<h4>1. Arithmatic operations</h4>\n",
       "<h4>2. Universal Functions(ufunc)</h4>\n"
      ],
      "text/plain": [
       "<IPython.core.display.HTML object>"
      ]
     },
     "metadata": {},
     "output_type": "display_data"
    }
   ],
   "source": [
    "%%html\n",
    "<h3>Numpy Operations</h3>\n",
    "<h4>1. Arithmatic operations</h4>\n",
    "<h4>2. Universal Functions(ufunc)</h4>"
   ]
  },
  {
   "cell_type": "code",
   "execution_count": 2,
   "id": "f09f8a64-411f-4fce-9c61-3a6e935eb5be",
   "metadata": {},
   "outputs": [
    {
     "data": {
      "text/plain": [
       "'2.1.3'"
      ]
     },
     "execution_count": 2,
     "metadata": {},
     "output_type": "execute_result"
    }
   ],
   "source": [
    "import numpy as np\n",
    "np.__version__"
   ]
  },
  {
   "cell_type": "code",
   "execution_count": 3,
   "id": "f8dc1053-575d-4c10-8291-0e4dbb3c9938",
   "metadata": {},
   "outputs": [],
   "source": [
    "arr = np.arange(0,5)"
   ]
  },
  {
   "cell_type": "code",
   "execution_count": 4,
   "id": "72811440-e58e-4e6d-8885-a61a41c7623d",
   "metadata": {},
   "outputs": [
    {
     "data": {
      "text/plain": [
       "array([0, 1, 2, 3, 4])"
      ]
     },
     "execution_count": 4,
     "metadata": {},
     "output_type": "execute_result"
    }
   ],
   "source": [
    "arr"
   ]
  },
  {
   "cell_type": "code",
   "execution_count": null,
   "id": "87c7b661-90a9-4f0e-9f69-1be6b8cce793",
   "metadata": {},
   "outputs": [],
   "source": []
  }
 ],
 "metadata": {
  "kernelspec": {
   "display_name": "Python 3 (ipykernel)",
   "language": "python",
   "name": "python3"
  },
  "language_info": {
   "codemirror_mode": {
    "name": "ipython",
    "version": 3
   },
   "file_extension": ".py",
   "mimetype": "text/x-python",
   "name": "python",
   "nbconvert_exporter": "python",
   "pygments_lexer": "ipython3",
   "version": "3.12.7"
  }
 },
 "nbformat": 4,
 "nbformat_minor": 5
}
