{
 "cells": [
  {
   "cell_type": "code",
   "execution_count": 2,
   "id": "10114fda-fba0-474b-97f0-095c23dbbda7",
   "metadata": {},
   "outputs": [
    {
     "data": {
      "text/html": [
       "<h2>array methods and attributes</h2>\n",
       "<h3>array attributes:</h3>\n",
       "<h4>size, shape, reshape, itemsize, nbytes, dtype</h4>\n"
      ],
      "text/plain": [
       "<IPython.core.display.HTML object>"
      ]
     },
     "metadata": {},
     "output_type": "display_data"
    }
   ],
   "source": [
    "%%html\n",
    "<h2>array methods and attributes</h2>\n",
    "<h3>array attributes:</h3>\n",
    "<h4>size, shape, reshape, itemsize, nbytes, dtype</h4>"
   ]
  },
  {
   "cell_type": "code",
   "execution_count": 3,
   "id": "405021e6-5128-4867-94f8-1bc6078357e5",
   "metadata": {},
   "outputs": [
    {
     "data": {
      "text/plain": [
       "'2.1.3'"
      ]
     },
     "execution_count": 3,
     "metadata": {},
     "output_type": "execute_result"
    }
   ],
   "source": [
    "import numpy as np\n",
    "np.__version__"
   ]
  },
  {
   "cell_type": "code",
   "execution_count": 4,
   "id": "3b60edc6-1faa-4c01-823e-8c4f364ab4a4",
   "metadata": {},
   "outputs": [],
   "source": [
    "array_ranint = np.random.randint(0, 100, 10)"
   ]
  },
  {
   "cell_type": "code",
   "execution_count": 5,
   "id": "7d332601-e0fd-4aae-abb8-d3ae6b9cc8d1",
   "metadata": {},
   "outputs": [
    {
     "data": {
      "text/plain": [
       "array([72, 45, 79, 88, 92, 68,  0, 34, 85, 16], dtype=int32)"
      ]
     },
     "execution_count": 5,
     "metadata": {},
     "output_type": "execute_result"
    }
   ],
   "source": [
    "array_ranint"
   ]
  },
  {
   "cell_type": "code",
   "execution_count": 6,
   "id": "80584632-000d-403b-aaa6-8b38a024206f",
   "metadata": {},
   "outputs": [
    {
     "data": {
      "text/plain": [
       "np.int32(0)"
      ]
     },
     "execution_count": 6,
     "metadata": {},
     "output_type": "execute_result"
    }
   ],
   "source": [
    "array_ranint.min()"
   ]
  },
  {
   "cell_type": "code",
   "execution_count": 7,
   "id": "789bc623-c811-4e1b-bbea-de130d1470c9",
   "metadata": {},
   "outputs": [
    {
     "data": {
      "text/plain": [
       "np.int32(92)"
      ]
     },
     "execution_count": 7,
     "metadata": {},
     "output_type": "execute_result"
    }
   ],
   "source": [
    "array_ranint.max()"
   ]
  },
  {
   "cell_type": "code",
   "execution_count": 8,
   "id": "21485c4b-b390-4d4e-9a26-f6c0bdd5b44c",
   "metadata": {},
   "outputs": [
    {
     "data": {
      "text/plain": [
       "array([72, 45, 79, 88, 92, 68,  0, 34, 85, 16], dtype=int32)"
      ]
     },
     "execution_count": 8,
     "metadata": {},
     "output_type": "execute_result"
    }
   ],
   "source": [
    "array_ranint"
   ]
  },
  {
   "cell_type": "code",
   "execution_count": 9,
   "id": "d3a28133-08a7-48e1-9094-bd926fb8c675",
   "metadata": {},
   "outputs": [
    {
     "data": {
      "text/plain": [
       "np.int64(6)"
      ]
     },
     "execution_count": 9,
     "metadata": {},
     "output_type": "execute_result"
    }
   ],
   "source": [
    "array_ranint.argmin()"
   ]
  },
  {
   "cell_type": "code",
   "execution_count": 10,
   "id": "874de461-d2b2-44a0-88d0-fab232ed45dc",
   "metadata": {},
   "outputs": [
    {
     "data": {
      "text/plain": [
       "np.int64(4)"
      ]
     },
     "execution_count": 10,
     "metadata": {},
     "output_type": "execute_result"
    }
   ],
   "source": [
    "array_ranint.argmax()"
   ]
  },
  {
   "cell_type": "code",
   "execution_count": null,
   "id": "48eef473-145a-4eee-99f3-d65184e8de4a",
   "metadata": {},
   "outputs": [],
   "source": []
  }
 ],
 "metadata": {
  "kernelspec": {
   "display_name": "Python 3 (ipykernel)",
   "language": "python",
   "name": "python3"
  },
  "language_info": {
   "codemirror_mode": {
    "name": "ipython",
    "version": 3
   },
   "file_extension": ".py",
   "mimetype": "text/x-python",
   "name": "python",
   "nbconvert_exporter": "python",
   "pygments_lexer": "ipython3",
   "version": "3.12.7"
  }
 },
 "nbformat": 4,
 "nbformat_minor": 5
}
