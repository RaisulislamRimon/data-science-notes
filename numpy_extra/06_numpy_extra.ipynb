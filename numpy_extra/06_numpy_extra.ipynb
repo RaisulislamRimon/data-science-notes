{
 "cells": [
  {
   "cell_type": "code",
   "execution_count": 1,
   "id": "10114fda-fba0-474b-97f0-095c23dbbda7",
   "metadata": {},
   "outputs": [
    {
     "data": {
      "text/html": [
       "<h3>indexing & slicing 1-d arrays</h3>\n"
      ],
      "text/plain": [
       "<IPython.core.display.HTML object>"
      ]
     },
     "metadata": {},
     "output_type": "display_data"
    }
   ],
   "source": [
    "%%html\n",
    "<h3>indexing & slicing 1-d arrays</h3>"
   ]
  },
  {
   "cell_type": "code",
   "execution_count": 3,
   "id": "405021e6-5128-4867-94f8-1bc6078357e5",
   "metadata": {},
   "outputs": [
    {
     "data": {
      "text/plain": [
       "'2.1.3'"
      ]
     },
     "execution_count": 3,
     "metadata": {},
     "output_type": "execute_result"
    }
   ],
   "source": [
    "import numpy as np\n",
    "np.__version__"
   ]
  },
  {
   "cell_type": "code",
   "execution_count": 4,
   "id": "35053179-7a70-4070-8080-41d28f7937a2",
   "metadata": {},
   "outputs": [],
   "source": [
    "array_1d = np.array([-10, -2, 0, 2, 17, 106, 200])"
   ]
  },
  {
   "cell_type": "code",
   "execution_count": 5,
   "id": "3f1ef8ce-5eb1-4ebb-bbeb-0e4b04a257b6",
   "metadata": {},
   "outputs": [
    {
     "data": {
      "text/plain": [
       "array([-10,  -2,   0,   2,  17, 106, 200])"
      ]
     },
     "execution_count": 5,
     "metadata": {},
     "output_type": "execute_result"
    }
   ],
   "source": [
    "array_1d"
   ]
  },
  {
   "cell_type": "code",
   "execution_count": 6,
   "id": "49be4361-bdbe-43ae-8bdf-420508079fdc",
   "metadata": {},
   "outputs": [
    {
     "data": {
      "text/plain": [
       "numpy.ndarray"
      ]
     },
     "execution_count": 6,
     "metadata": {},
     "output_type": "execute_result"
    }
   ],
   "source": [
    "type(array_1d)"
   ]
  },
  {
   "cell_type": "code",
   "execution_count": 7,
   "id": "a28b5e04-075f-430f-846f-e9c317e5560b",
   "metadata": {},
   "outputs": [
    {
     "data": {
      "text/plain": [
       "np.int64(-10)"
      ]
     },
     "execution_count": 7,
     "metadata": {},
     "output_type": "execute_result"
    }
   ],
   "source": [
    "array_1d[0]"
   ]
  },
  {
   "cell_type": "code",
   "execution_count": 8,
   "id": "74c0e6e2-6277-49fd-aee3-9e6c3295d2ba",
   "metadata": {},
   "outputs": [
    {
     "data": {
      "text/plain": [
       "np.int64(17)"
      ]
     },
     "execution_count": 8,
     "metadata": {},
     "output_type": "execute_result"
    }
   ],
   "source": [
    "array_1d[4]"
   ]
  },
  {
   "cell_type": "code",
   "execution_count": 9,
   "id": "d757e66a-a2af-4a91-bdf8-764b46c20ae2",
   "metadata": {},
   "outputs": [
    {
     "data": {
      "text/plain": [
       "np.int64(200)"
      ]
     },
     "execution_count": 9,
     "metadata": {},
     "output_type": "execute_result"
    }
   ],
   "source": [
    "array_1d[6]"
   ]
  },
  {
   "cell_type": "code",
   "execution_count": 10,
   "id": "3d4c2296-f48b-4d07-ac7a-59589af25b61",
   "metadata": {},
   "outputs": [
    {
     "data": {
      "text/plain": [
       "np.int64(200)"
      ]
     },
     "execution_count": 10,
     "metadata": {},
     "output_type": "execute_result"
    }
   ],
   "source": [
    "array_1d[-1]"
   ]
  },
  {
   "cell_type": "code",
   "execution_count": 11,
   "id": "0b9bf8ba-8e5f-4d77-8ae8-7b8b0daccb1a",
   "metadata": {},
   "outputs": [
    {
     "data": {
      "text/plain": [
       "array([-10,  -2,   0,   2,  17, 106, 200])"
      ]
     },
     "execution_count": 11,
     "metadata": {},
     "output_type": "execute_result"
    }
   ],
   "source": [
    "array_1d"
   ]
  },
  {
   "cell_type": "code",
   "execution_count": 12,
   "id": "0e2050a7-a173-40eb-a3b0-724760c8b39f",
   "metadata": {},
   "outputs": [
    {
     "data": {
      "text/plain": [
       "array([-10,  -2,   0])"
      ]
     },
     "execution_count": 12,
     "metadata": {},
     "output_type": "execute_result"
    }
   ],
   "source": [
    "array_1d[0:3]"
   ]
  },
  {
   "cell_type": "code",
   "execution_count": 13,
   "id": "bf5d3ab6-3211-4a23-8665-0c2970bcbfd7",
   "metadata": {},
   "outputs": [
    {
     "data": {
      "text/plain": [
       "array([], dtype=int64)"
      ]
     },
     "execution_count": 13,
     "metadata": {},
     "output_type": "execute_result"
    }
   ],
   "source": [
    "array_1d[-1:-3]"
   ]
  },
  {
   "cell_type": "code",
   "execution_count": 14,
   "id": "a9d7f472-65d2-41a0-b96e-3f297f269751",
   "metadata": {},
   "outputs": [
    {
     "data": {
      "text/plain": [
       "array([ 17, 106])"
      ]
     },
     "execution_count": 14,
     "metadata": {},
     "output_type": "execute_result"
    }
   ],
   "source": [
    "array_1d[-3:-1]"
   ]
  },
  {
   "cell_type": "code",
   "execution_count": 15,
   "id": "6188327e-4b3f-4bae-8111-881a957504c9",
   "metadata": {},
   "outputs": [
    {
     "data": {
      "text/plain": [
       "array([-10,  -2,   0,   2,  17, 106, 200])"
      ]
     },
     "execution_count": 15,
     "metadata": {},
     "output_type": "execute_result"
    }
   ],
   "source": [
    "array_1d[:]"
   ]
  },
  {
   "cell_type": "code",
   "execution_count": 16,
   "id": "7f4b118f-11fb-4a26-bc98-00de8361cb0b",
   "metadata": {},
   "outputs": [
    {
     "data": {
      "text/plain": [
       "array([-10,  -2,   0])"
      ]
     },
     "execution_count": 16,
     "metadata": {},
     "output_type": "execute_result"
    }
   ],
   "source": [
    "array_1d[:3]"
   ]
  },
  {
   "cell_type": "code",
   "execution_count": 17,
   "id": "66124059-5184-4f38-b743-8396c8011557",
   "metadata": {},
   "outputs": [
    {
     "data": {
      "text/plain": [
       "array([  2,  17, 106, 200])"
      ]
     },
     "execution_count": 17,
     "metadata": {},
     "output_type": "execute_result"
    }
   ],
   "source": [
    "array_1d[3:]"
   ]
  },
  {
   "cell_type": "code",
   "execution_count": 18,
   "id": "474b2da0-05fa-472b-88c8-7e145cda14cf",
   "metadata": {},
   "outputs": [
    {
     "data": {
      "text/plain": [
       "array([-10,  -2,   0,   2,  17, 106, 200])"
      ]
     },
     "execution_count": 18,
     "metadata": {},
     "output_type": "execute_result"
    }
   ],
   "source": [
    "array_1d[::]"
   ]
  },
  {
   "cell_type": "code",
   "execution_count": 19,
   "id": "995c4307-d757-4d5b-8ed1-d17b9260c5c6",
   "metadata": {},
   "outputs": [
    {
     "data": {
      "text/plain": [
       "array([-10,   0,  17, 200])"
      ]
     },
     "execution_count": 19,
     "metadata": {},
     "output_type": "execute_result"
    }
   ],
   "source": [
    "array_1d[::2]"
   ]
  },
  {
   "cell_type": "code",
   "execution_count": 20,
   "id": "cdf6ee7a-3d9a-4c62-808e-f30ca206954e",
   "metadata": {},
   "outputs": [
    {
     "data": {
      "text/plain": [
       "array([-10,  -2,   0,   2,  17, 106, 200])"
      ]
     },
     "execution_count": 20,
     "metadata": {},
     "output_type": "execute_result"
    }
   ],
   "source": [
    "array_1d"
   ]
  },
  {
   "cell_type": "code",
   "execution_count": 21,
   "id": "768f22b4-0377-4bd8-bd53-1fc6d7d1d3c2",
   "metadata": {},
   "outputs": [
    {
     "data": {
      "text/plain": [
       "array([-10,  17])"
      ]
     },
     "execution_count": 21,
     "metadata": {},
     "output_type": "execute_result"
    }
   ],
   "source": [
    "array_1d[::4]"
   ]
  },
  {
   "cell_type": "code",
   "execution_count": 22,
   "id": "44a64c5f-d066-4bc4-829e-db73960c7795",
   "metadata": {},
   "outputs": [
    {
     "data": {
      "text/plain": [
       "array([-10,  -2,   0])"
      ]
     },
     "execution_count": 22,
     "metadata": {},
     "output_type": "execute_result"
    }
   ],
   "source": [
    "array_1d[0:3]"
   ]
  },
  {
   "cell_type": "code",
   "execution_count": 23,
   "id": "5e82ed5f-bed6-4b73-a1e2-68f891fc3e42",
   "metadata": {},
   "outputs": [
    {
     "data": {
      "text/plain": [
       "array([-10,   0])"
      ]
     },
     "execution_count": 23,
     "metadata": {},
     "output_type": "execute_result"
    }
   ],
   "source": [
    "array_1d[0:3:2]"
   ]
  },
  {
   "cell_type": "code",
   "execution_count": 24,
   "id": "accbf289-b474-4fba-a015-31709bafb8e6",
   "metadata": {},
   "outputs": [
    {
     "data": {
      "text/plain": [
       "array([-10,  -2,   0,   2,  17, 106, 200])"
      ]
     },
     "execution_count": 24,
     "metadata": {},
     "output_type": "execute_result"
    }
   ],
   "source": [
    "array_1d"
   ]
  },
  {
   "cell_type": "code",
   "execution_count": 25,
   "id": "f588d0b1-8939-4688-9c9e-e6e93d6b76e1",
   "metadata": {},
   "outputs": [
    {
     "data": {
      "text/plain": [
       "np.int64(200)"
      ]
     },
     "execution_count": 25,
     "metadata": {},
     "output_type": "execute_result"
    }
   ],
   "source": [
    "array_1d[-1]"
   ]
  },
  {
   "cell_type": "code",
   "execution_count": 26,
   "id": "819936d3-a664-423e-858f-d3699940eba5",
   "metadata": {},
   "outputs": [
    {
     "data": {
      "text/plain": [
       "np.int64(106)"
      ]
     },
     "execution_count": 26,
     "metadata": {},
     "output_type": "execute_result"
    }
   ],
   "source": [
    "array_1d[-2]"
   ]
  },
  {
   "cell_type": "code",
   "execution_count": 27,
   "id": "0fdc3559-c451-4e24-9ce8-eaa627a49c2d",
   "metadata": {},
   "outputs": [
    {
     "data": {
      "text/plain": [
       "np.int64(2)"
      ]
     },
     "execution_count": 27,
     "metadata": {},
     "output_type": "execute_result"
    }
   ],
   "source": [
    "array_1d[-4]"
   ]
  },
  {
   "cell_type": "code",
   "execution_count": 28,
   "id": "55cdeb0d-0a5f-4559-a01d-413bdbff8973",
   "metadata": {},
   "outputs": [
    {
     "data": {
      "text/plain": [
       "np.int64(0)"
      ]
     },
     "execution_count": 28,
     "metadata": {},
     "output_type": "execute_result"
    }
   ],
   "source": [
    "array_1d[-5]"
   ]
  },
  {
   "cell_type": "code",
   "execution_count": 29,
   "id": "bb77a220-2f95-4e40-8c86-3d690af4727e",
   "metadata": {},
   "outputs": [
    {
     "data": {
      "text/plain": [
       "np.int64(-2)"
      ]
     },
     "execution_count": 29,
     "metadata": {},
     "output_type": "execute_result"
    }
   ],
   "source": [
    "array_1d[-6]"
   ]
  },
  {
   "cell_type": "code",
   "execution_count": 30,
   "id": "d4bf44c1-c81e-496f-ad01-a7ef10860eac",
   "metadata": {},
   "outputs": [
    {
     "data": {
      "text/plain": [
       "array([-10,  -2,   0,   2,  17, 106, 200])"
      ]
     },
     "execution_count": 30,
     "metadata": {},
     "output_type": "execute_result"
    }
   ],
   "source": [
    "array_1d"
   ]
  },
  {
   "cell_type": "code",
   "execution_count": 31,
   "id": "fe119785-ebea-4c7d-bc33-08ad99897379",
   "metadata": {},
   "outputs": [
    {
     "data": {
      "text/plain": [
       "array([-2,  0,  2, 17])"
      ]
     },
     "execution_count": 31,
     "metadata": {},
     "output_type": "execute_result"
    }
   ],
   "source": [
    "array_1d[1:-2]"
   ]
  },
  {
   "cell_type": "code",
   "execution_count": 32,
   "id": "59cbd14e-a3b0-4ddc-abb2-c862dd5900f8",
   "metadata": {},
   "outputs": [
    {
     "data": {
      "text/plain": [
       "array([-10,  -2])"
      ]
     },
     "execution_count": 32,
     "metadata": {},
     "output_type": "execute_result"
    }
   ],
   "source": [
    "array_1d[:2]"
   ]
  },
  {
   "cell_type": "code",
   "execution_count": 33,
   "id": "d1220999-b3ea-40b0-8f2d-e7e03aa3e400",
   "metadata": {},
   "outputs": [
    {
     "data": {
      "text/plain": [
       "array([  0,   2,  17, 106, 200])"
      ]
     },
     "execution_count": 33,
     "metadata": {},
     "output_type": "execute_result"
    }
   ],
   "source": [
    "array_1d[2:]"
   ]
  },
  {
   "cell_type": "code",
   "execution_count": 34,
   "id": "ca547c2a-ceb5-46aa-8969-96589065a3f3",
   "metadata": {},
   "outputs": [
    {
     "data": {
      "text/plain": [
       "(array([-10,  -2]), array([  0,   2,  17, 106, 200]))"
      ]
     },
     "execution_count": 34,
     "metadata": {},
     "output_type": "execute_result"
    }
   ],
   "source": [
    "array_1d[:2], array_1d[2:]"
   ]
  },
  {
   "cell_type": "code",
   "execution_count": 35,
   "id": "29ed6bb8-300b-4043-9c05-ccc706c2a219",
   "metadata": {},
   "outputs": [
    {
     "data": {
      "text/plain": [
       "array([-10,  -2,   0,   2,  17, 106, 200])"
      ]
     },
     "execution_count": 35,
     "metadata": {},
     "output_type": "execute_result"
    }
   ],
   "source": [
    "array_1d"
   ]
  },
  {
   "cell_type": "code",
   "execution_count": 36,
   "id": "6c1933af-988a-4d53-9eab-518d34e0aef4",
   "metadata": {},
   "outputs": [
    {
     "data": {
      "text/plain": [
       "np.int64(-10)"
      ]
     },
     "execution_count": 36,
     "metadata": {},
     "output_type": "execute_result"
    }
   ],
   "source": [
    "array_1d[0]"
   ]
  },
  {
   "cell_type": "code",
   "execution_count": 37,
   "id": "e1a43bad-0838-4c1c-bced-026aeca6353a",
   "metadata": {},
   "outputs": [],
   "source": [
    "array_1d[0] = 100"
   ]
  },
  {
   "cell_type": "code",
   "execution_count": 38,
   "id": "ebb5ef6f-eda6-43f4-8f82-7ead7b57d6a4",
   "metadata": {},
   "outputs": [
    {
     "data": {
      "text/plain": [
       "array([100,  -2,   0,   2,  17, 106, 200])"
      ]
     },
     "execution_count": 38,
     "metadata": {},
     "output_type": "execute_result"
    }
   ],
   "source": [
    "array_1d"
   ]
  },
  {
   "cell_type": "code",
   "execution_count": null,
   "id": "f1577b23-ea71-481a-a79c-0dd95757bddb",
   "metadata": {},
   "outputs": [],
   "source": []
  }
 ],
 "metadata": {
  "kernelspec": {
   "display_name": "Python 3 (ipykernel)",
   "language": "python",
   "name": "python3"
  },
  "language_info": {
   "codemirror_mode": {
    "name": "ipython",
    "version": 3
   },
   "file_extension": ".py",
   "mimetype": "text/x-python",
   "name": "python",
   "nbconvert_exporter": "python",
   "pygments_lexer": "ipython3",
   "version": "3.12.7"
  }
 },
 "nbformat": 4,
 "nbformat_minor": 5
}
