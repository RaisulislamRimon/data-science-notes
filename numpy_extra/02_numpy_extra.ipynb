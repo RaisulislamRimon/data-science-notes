{
 "cells": [
  {
   "cell_type": "code",
   "execution_count": 4,
   "id": "d9f131d2-f990-4aba-b4f6-f6ec69c78e15",
   "metadata": {},
   "outputs": [],
   "source": [
    "# Numpy arrays = numerical python\n",
    "# numpy developed by Travis Oliphant"
   ]
  },
  {
   "cell_type": "code",
   "execution_count": 5,
   "id": "d4d68c70-1216-4d34-93f6-303881a82720",
   "metadata": {},
   "outputs": [],
   "source": [
    "import numpy as np"
   ]
  },
  {
   "cell_type": "code",
   "execution_count": 6,
   "id": "b977818a-711a-4868-ac74-17d77c45b6da",
   "metadata": {},
   "outputs": [
    {
     "data": {
      "text/plain": [
       "'2.1.3'"
      ]
     },
     "execution_count": 6,
     "metadata": {},
     "output_type": "execute_result"
    }
   ],
   "source": [
    "np.__version__"
   ]
  },
  {
   "cell_type": "code",
   "execution_count": 7,
   "id": "477eabdc-b788-485a-8c05-e373229a4c35",
   "metadata": {},
   "outputs": [],
   "source": [
    "list = [0, 1, 2]"
   ]
  },
  {
   "cell_type": "code",
   "execution_count": 8,
   "id": "869a3522-fa0d-4f74-aebd-21c0f86120ff",
   "metadata": {},
   "outputs": [
    {
     "data": {
      "text/plain": [
       "[0, 1, 2]"
      ]
     },
     "execution_count": 8,
     "metadata": {},
     "output_type": "execute_result"
    }
   ],
   "source": [
    "list"
   ]
  },
  {
   "cell_type": "code",
   "execution_count": 9,
   "id": "c52ffd18-6efd-43d9-926c-d072467018b7",
   "metadata": {},
   "outputs": [
    {
     "data": {
      "text/plain": [
       "list"
      ]
     },
     "execution_count": 9,
     "metadata": {},
     "output_type": "execute_result"
    }
   ],
   "source": [
    "type(list)"
   ]
  },
  {
   "cell_type": "code",
   "execution_count": 11,
   "id": "455d8e08-ae70-43fa-a5ca-298a5ce252c3",
   "metadata": {},
   "outputs": [
    {
     "data": {
      "text/plain": [
       "[0, 1, 2, 0, 1, 2]"
      ]
     },
     "execution_count": 11,
     "metadata": {},
     "output_type": "execute_result"
    }
   ],
   "source": [
    "list * 2"
   ]
  },
  {
   "cell_type": "code",
   "execution_count": 12,
   "id": "0c4b9649-e89b-4658-b456-6dbdf25c7702",
   "metadata": {},
   "outputs": [],
   "source": [
    "arr = np.array(list)"
   ]
  },
  {
   "cell_type": "code",
   "execution_count": 13,
   "id": "67cc3f82-d270-44b0-b6b3-7a05bc614633",
   "metadata": {},
   "outputs": [
    {
     "data": {
      "text/plain": [
       "array([0, 1, 2])"
      ]
     },
     "execution_count": 13,
     "metadata": {},
     "output_type": "execute_result"
    }
   ],
   "source": [
    "arr"
   ]
  },
  {
   "cell_type": "code",
   "execution_count": 19,
   "id": "92f7aa0f-1957-480b-ae78-26f1b2f083b1",
   "metadata": {},
   "outputs": [
    {
     "data": {
      "text/plain": [
       "array([0, 2, 4])"
      ]
     },
     "execution_count": 19,
     "metadata": {},
     "output_type": "execute_result"
    }
   ],
   "source": [
    "arr * 2"
   ]
  },
  {
   "cell_type": "code",
   "execution_count": 20,
   "id": "d77c89f8-5dbc-403e-aff3-53c9e03ee3be",
   "metadata": {},
   "outputs": [
    {
     "data": {
      "text/plain": [
       "numpy.ndarray"
      ]
     },
     "execution_count": 20,
     "metadata": {},
     "output_type": "execute_result"
    }
   ],
   "source": [
    "type(arr)"
   ]
  },
  {
   "cell_type": "code",
   "execution_count": 21,
   "id": "2dcfd233-6b33-4576-9943-2600cd4672eb",
   "metadata": {},
   "outputs": [],
   "source": [
    "arr = np.array([0, 1, 2])"
   ]
  },
  {
   "cell_type": "code",
   "execution_count": 22,
   "id": "00e3f9d2-b587-4671-8bf6-1dbcc69c6b81",
   "metadata": {},
   "outputs": [
    {
     "data": {
      "text/plain": [
       "array([0, 1, 2])"
      ]
     },
     "execution_count": 22,
     "metadata": {},
     "output_type": "execute_result"
    }
   ],
   "source": [
    "arr"
   ]
  },
  {
   "cell_type": "code",
   "execution_count": 23,
   "id": "75cfd367-80d9-4d98-958e-e092ee86cd23",
   "metadata": {},
   "outputs": [
    {
     "data": {
      "text/plain": [
       "numpy.ndarray"
      ]
     },
     "execution_count": 23,
     "metadata": {},
     "output_type": "execute_result"
    }
   ],
   "source": [
    "type(arr)"
   ]
  },
  {
   "cell_type": "code",
   "execution_count": 25,
   "id": "90954d7e-1e07-4513-a5e6-bdd3378b213a",
   "metadata": {},
   "outputs": [
    {
     "data": {
      "text/plain": [
       "array([0, 2, 4])"
      ]
     },
     "execution_count": 25,
     "metadata": {},
     "output_type": "execute_result"
    }
   ],
   "source": [
    "arr * 2"
   ]
  },
  {
   "cell_type": "code",
   "execution_count": 27,
   "id": "532fab00-d1cf-4ed3-bc84-f6b7f7af4f93",
   "metadata": {},
   "outputs": [
    {
     "data": {
      "text/plain": [
       "[-1, 0, 1]"
      ]
     },
     "execution_count": 27,
     "metadata": {},
     "output_type": "execute_result"
    }
   ],
   "source": [
    "my_list = [-1, 0, 1]\n",
    "my_list"
   ]
  },
  {
   "cell_type": "code",
   "execution_count": 28,
   "id": "9d693aa6-5b97-4751-b9da-5e3e26b3c179",
   "metadata": {},
   "outputs": [
    {
     "name": "stdout",
     "output_type": "stream",
     "text": [
      "[-1, 0, 1]\n"
     ]
    }
   ],
   "source": [
    "print(my_list)"
   ]
  },
  {
   "cell_type": "code",
   "execution_count": 29,
   "id": "711f1125-88dd-429c-815c-b0e2a27d09a2",
   "metadata": {},
   "outputs": [
    {
     "data": {
      "text/plain": [
       "list"
      ]
     },
     "execution_count": 29,
     "metadata": {},
     "output_type": "execute_result"
    }
   ],
   "source": [
    "type(my_list)"
   ]
  },
  {
   "cell_type": "code",
   "execution_count": 30,
   "id": "f91b461b-6557-488b-a032-44606006fe08",
   "metadata": {},
   "outputs": [
    {
     "data": {
      "text/plain": [
       "array([[-1,  0,  1]])"
      ]
     },
     "execution_count": 30,
     "metadata": {},
     "output_type": "execute_result"
    }
   ],
   "source": [
    "my_array = np.array([my_list])\n",
    "my_array"
   ]
  },
  {
   "cell_type": "code",
   "execution_count": 31,
   "id": "da3e3040-e525-4482-8038-e9e4be6a22c4",
   "metadata": {},
   "outputs": [
    {
     "data": {
      "text/plain": [
       "numpy.ndarray"
      ]
     },
     "execution_count": 31,
     "metadata": {},
     "output_type": "execute_result"
    }
   ],
   "source": [
    "type(my_array)"
   ]
  },
  {
   "cell_type": "code",
   "execution_count": 32,
   "id": "f2295caa-0c4c-43bd-961d-c4d0beda3475",
   "metadata": {},
   "outputs": [
    {
     "data": {
      "text/plain": [
       "[[1, 2, 3], [4, 5, 6], [7, 8, 9], [4, 5, 9]]"
      ]
     },
     "execution_count": 32,
     "metadata": {},
     "output_type": "execute_result"
    }
   ],
   "source": [
    "my_matrix = [[1, 2, 3], [4, 5, 6], [7, 8, 9], [4, 5, 9]]\n",
    "my_matrix"
   ]
  },
  {
   "cell_type": "code",
   "execution_count": 33,
   "id": "b3cc3596-21d1-48c6-9b4a-3eca2d890e4e",
   "metadata": {},
   "outputs": [
    {
     "data": {
      "text/plain": [
       "list"
      ]
     },
     "execution_count": 33,
     "metadata": {},
     "output_type": "execute_result"
    }
   ],
   "source": [
    "type(my_matrix)"
   ]
  },
  {
   "cell_type": "code",
   "execution_count": 34,
   "id": "6d9d5cb8-73ac-4888-b3fd-7857418174d3",
   "metadata": {},
   "outputs": [
    {
     "data": {
      "text/plain": [
       "array([[1, 2, 3],\n",
       "       [4, 5, 6],\n",
       "       [7, 8, 9],\n",
       "       [4, 5, 9]])"
      ]
     },
     "execution_count": 34,
     "metadata": {},
     "output_type": "execute_result"
    }
   ],
   "source": [
    "matrix_one = np.array(my_matrix)\n",
    "matrix_one"
   ]
  },
  {
   "cell_type": "code",
   "execution_count": 35,
   "id": "6bd653fd-3b34-45ee-a19a-f78dace9e540",
   "metadata": {},
   "outputs": [
    {
     "data": {
      "text/plain": [
       "numpy.ndarray"
      ]
     },
     "execution_count": 35,
     "metadata": {},
     "output_type": "execute_result"
    }
   ],
   "source": [
    "type(matrix_one)"
   ]
  },
  {
   "cell_type": "code",
   "execution_count": 36,
   "id": "17120c1e-2ad9-4922-926d-cdc65bdd918b",
   "metadata": {},
   "outputs": [
    {
     "data": {
      "text/plain": [
       "array([-1,  0,  1])"
      ]
     },
     "execution_count": 36,
     "metadata": {},
     "output_type": "execute_result"
    }
   ],
   "source": [
    "my_tuple = (-1, 0, 1)\n",
    "my_array = np.array(my_tuple)\n",
    "my_array"
   ]
  },
  {
   "cell_type": "code",
   "execution_count": 37,
   "id": "ef3d3be6-5ca2-4df2-921c-3e5f11c418fb",
   "metadata": {},
   "outputs": [
    {
     "data": {
      "text/plain": [
       "numpy.ndarray"
      ]
     },
     "execution_count": 37,
     "metadata": {},
     "output_type": "execute_result"
    }
   ],
   "source": [
    "type(my_array)"
   ]
  },
  {
   "cell_type": "code",
   "execution_count": 38,
   "id": "b0a10e0b-09ff-4912-9803-a91287f297cc",
   "metadata": {},
   "outputs": [
    {
     "data": {
      "text/plain": [
       "array([3, 5, 6])"
      ]
     },
     "execution_count": 38,
     "metadata": {},
     "output_type": "execute_result"
    }
   ],
   "source": [
    "my_array = np.array([3, 5, 6])\n",
    "my_array"
   ]
  },
  {
   "cell_type": "code",
   "execution_count": 39,
   "id": "e0ad2f10-ebfa-4116-8916-a679b0f09176",
   "metadata": {},
   "outputs": [
    {
     "data": {
      "text/plain": [
       "numpy.ndarray"
      ]
     },
     "execution_count": 39,
     "metadata": {},
     "output_type": "execute_result"
    }
   ],
   "source": [
    "type(my_array)"
   ]
  },
  {
   "cell_type": "code",
   "execution_count": 40,
   "id": "d18e8450-6f12-47e1-bb5f-2a183e25e269",
   "metadata": {},
   "outputs": [
    {
     "data": {
      "text/plain": [
       "array(['3', '5', 'a'], dtype='<U21')"
      ]
     },
     "execution_count": 40,
     "metadata": {},
     "output_type": "execute_result"
    }
   ],
   "source": [
    "my_array = np.array([3, 5, 'a'])\n",
    "my_array"
   ]
  },
  {
   "cell_type": "code",
   "execution_count": 41,
   "id": "30242b27-5985-499b-8753-e80936226086",
   "metadata": {},
   "outputs": [
    {
     "data": {
      "text/plain": [
       "numpy.ndarray"
      ]
     },
     "execution_count": 41,
     "metadata": {},
     "output_type": "execute_result"
    }
   ],
   "source": [
    "type(my_array)"
   ]
  },
  {
   "cell_type": "code",
   "execution_count": 42,
   "id": "4022b033-5236-4ea4-bad4-34c7edd3f645",
   "metadata": {},
   "outputs": [
    {
     "data": {
      "text/plain": [
       "[3, 4, 'a']"
      ]
     },
     "execution_count": 42,
     "metadata": {},
     "output_type": "execute_result"
    }
   ],
   "source": [
    "my_list = [3, 4, 'a']\n",
    "my_list"
   ]
  },
  {
   "cell_type": "code",
   "execution_count": null,
   "id": "2343d072-35d9-4330-8081-40b229cc3ac7",
   "metadata": {},
   "outputs": [],
   "source": []
  }
 ],
 "metadata": {
  "kernelspec": {
   "display_name": "Python 3 (ipykernel)",
   "language": "python",
   "name": "python3"
  },
  "language_info": {
   "codemirror_mode": {
    "name": "ipython",
    "version": 3
   },
   "file_extension": ".py",
   "mimetype": "text/x-python",
   "name": "python",
   "nbconvert_exporter": "python",
   "pygments_lexer": "ipython3",
   "version": "3.12.7"
  }
 },
 "nbformat": 4,
 "nbformat_minor": 5
}
